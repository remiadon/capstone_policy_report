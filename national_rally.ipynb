{
 "cells": [
  {
   "cell_type": "markdown",
   "metadata": {},
   "source": [
    "```bash\n",
    "! uv pip install polars fastexcel\n",
    "```"
   ]
  },
  {
   "cell_type": "markdown",
   "metadata": {},
   "source": [
    "datasets can downloaded from \n",
    "- https://www.data.gouv.fr/datasets/elections-legislatives-des-30-juin-et-7-juillet-2024-resultats-definitifs-du-2nd-tour/\n",
    "- https://www.insee.fr/fr/statistiques/6436476?sommaire=6436478\n"
   ]
  },
  {
   "cell_type": "code",
   "execution_count": 90,
   "metadata": {},
   "outputs": [],
   "source": [
    "import polars as pl\n",
    "import polars.selectors as cs"
   ]
  },
  {
   "cell_type": "code",
   "execution_count": 110,
   "metadata": {},
   "outputs": [
    {
     "name": "stderr",
     "output_type": "stream",
     "text": [
      "Could not determine dtype for column 44, falling back to string\n",
      "Could not determine dtype for column 54, falling back to string\n",
      "Could not determine dtype for column 55, falling back to string\n",
      "Could not determine dtype for column 56, falling back to string\n",
      "Could not determine dtype for column 57, falling back to string\n",
      "Could not determine dtype for column 58, falling back to string\n",
      "Could not determine dtype for column 59, falling back to string\n",
      "Could not determine dtype for column 60, falling back to string\n",
      "Could not determine dtype for column 61, falling back to string\n",
      "Could not determine dtype for column 62, falling back to string\n",
      "Could not determine dtype for column 63, falling back to string\n",
      "Could not determine dtype for column 64, falling back to string\n",
      "Could not determine dtype for column 65, falling back to string\n",
      "Could not determine dtype for column 66, falling back to string\n",
      "Could not determine dtype for column 67, falling back to string\n",
      "Could not determine dtype for column 68, falling back to string\n",
      "Could not determine dtype for column 69, falling back to string\n",
      "Could not determine dtype for column 70, falling back to string\n",
      "Could not determine dtype for column 71, falling back to string\n",
      "Could not determine dtype for column 72, falling back to string\n",
      "Could not determine dtype for column 73, falling back to string\n",
      "Could not determine dtype for column 74, falling back to string\n",
      "Could not determine dtype for column 75, falling back to string\n",
      "Could not determine dtype for column 76, falling back to string\n",
      "Could not determine dtype for column 77, falling back to string\n",
      "Could not determine dtype for column 78, falling back to string\n",
      "Could not determine dtype for column 79, falling back to string\n",
      "Could not determine dtype for column 80, falling back to string\n",
      "Could not determine dtype for column 81, falling back to string\n",
      "Could not determine dtype for column 82, falling back to string\n",
      "Could not determine dtype for column 83, falling back to string\n",
      "Could not determine dtype for column 84, falling back to string\n",
      "Could not determine dtype for column 85, falling back to string\n",
      "Could not determine dtype for column 86, falling back to string\n",
      "Could not determine dtype for column 87, falling back to string\n",
      "Could not determine dtype for column 88, falling back to string\n",
      "Could not determine dtype for column 89, falling back to string\n",
      "Could not determine dtype for column 90, falling back to string\n",
      "Could not determine dtype for column 91, falling back to string\n",
      "Could not determine dtype for column 92, falling back to string\n",
      "Could not determine dtype for column 93, falling back to string\n",
      "Could not determine dtype for column 94, falling back to string\n",
      "Could not determine dtype for column 95, falling back to string\n",
      "Could not determine dtype for column 96, falling back to string\n",
      "Could not determine dtype for column 97, falling back to string\n",
      "Could not determine dtype for column 98, falling back to string\n",
      "Could not determine dtype for column 99, falling back to string\n",
      "Could not determine dtype for column 100, falling back to string\n",
      "Could not determine dtype for column 101, falling back to string\n",
      "Could not determine dtype for column 102, falling back to string\n",
      "Could not determine dtype for column 103, falling back to string\n",
      "Could not determine dtype for column 104, falling back to string\n",
      "Could not determine dtype for column 105, falling back to string\n",
      "Could not determine dtype for column 106, falling back to string\n",
      "Could not determine dtype for column 107, falling back to string\n",
      "Could not determine dtype for column 108, falling back to string\n",
      "Could not determine dtype for column 109, falling back to string\n",
      "Could not determine dtype for column 110, falling back to string\n",
      "Could not determine dtype for column 111, falling back to string\n",
      "Could not determine dtype for column 112, falling back to string\n",
      "Could not determine dtype for column 113, falling back to string\n",
      "Could not determine dtype for column 114, falling back to string\n",
      "Could not determine dtype for column 115, falling back to string\n",
      "Could not determine dtype for column 116, falling back to string\n",
      "Could not determine dtype for column 117, falling back to string\n",
      "Could not determine dtype for column 118, falling back to string\n",
      "Could not determine dtype for column 119, falling back to string\n",
      "Could not determine dtype for column 120, falling back to string\n",
      "Could not determine dtype for column 121, falling back to string\n",
      "Could not determine dtype for column 122, falling back to string\n",
      "Could not determine dtype for column 123, falling back to string\n",
      "Could not determine dtype for column 124, falling back to string\n",
      "Could not determine dtype for column 125, falling back to string\n",
      "Could not determine dtype for column 126, falling back to string\n",
      "Could not determine dtype for column 127, falling back to string\n",
      "Could not determine dtype for column 128, falling back to string\n",
      "Could not determine dtype for column 129, falling back to string\n",
      "Could not determine dtype for column 130, falling back to string\n",
      "Could not determine dtype for column 131, falling back to string\n",
      "Could not determine dtype for column 132, falling back to string\n",
      "Could not determine dtype for column 133, falling back to string\n",
      "Could not determine dtype for column 134, falling back to string\n",
      "Could not determine dtype for column 135, falling back to string\n",
      "Could not determine dtype for column 136, falling back to string\n",
      "Could not determine dtype for column 137, falling back to string\n",
      "Could not determine dtype for column 138, falling back to string\n",
      "Could not determine dtype for column 139, falling back to string\n",
      "Could not determine dtype for column 140, falling back to string\n",
      "Could not determine dtype for column 141, falling back to string\n",
      "Could not determine dtype for column 142, falling back to string\n",
      "Could not determine dtype for column 143, falling back to string\n",
      "Could not determine dtype for column 144, falling back to string\n",
      "Could not determine dtype for column 145, falling back to string\n",
      "Could not determine dtype for column 146, falling back to string\n",
      "Could not determine dtype for column 147, falling back to string\n",
      "Could not determine dtype for column 148, falling back to string\n",
      "Could not determine dtype for column 149, falling back to string\n",
      "Could not determine dtype for column 150, falling back to string\n",
      "Could not determine dtype for column 151, falling back to string\n",
      "Could not determine dtype for column 152, falling back to string\n",
      "Could not determine dtype for column 153, falling back to string\n",
      "Could not determine dtype for column 154, falling back to string\n",
      "Could not determine dtype for column 155, falling back to string\n",
      "Could not determine dtype for column 156, falling back to string\n",
      "Could not determine dtype for column 157, falling back to string\n",
      "Could not determine dtype for column 158, falling back to string\n",
      "Could not determine dtype for column 159, falling back to string\n",
      "Could not determine dtype for column 160, falling back to string\n",
      "Could not determine dtype for column 161, falling back to string\n",
      "Could not determine dtype for column 162, falling back to string\n",
      "Could not determine dtype for column 163, falling back to string\n",
      "Could not determine dtype for column 164, falling back to string\n",
      "Could not determine dtype for column 165, falling back to string\n",
      "Could not determine dtype for column 166, falling back to string\n",
      "Could not determine dtype for column 167, falling back to string\n",
      "Could not determine dtype for column 168, falling back to string\n",
      "Could not determine dtype for column 169, falling back to string\n",
      "Could not determine dtype for column 170, falling back to string\n",
      "Could not determine dtype for column 171, falling back to string\n",
      "Could not determine dtype for column 172, falling back to string\n",
      "Could not determine dtype for column 173, falling back to string\n",
      "Could not determine dtype for column 174, falling back to string\n",
      "Could not determine dtype for column 175, falling back to string\n",
      "Could not determine dtype for column 176, falling back to string\n",
      "Could not determine dtype for column 177, falling back to string\n",
      "Could not determine dtype for column 178, falling back to string\n",
      "Could not determine dtype for column 179, falling back to string\n"
     ]
    },
    {
     "data": {
      "text/html": [
       "<div><style>\n",
       ".dataframe > thead > tr,\n",
       ".dataframe > tbody > tr {\n",
       "  text-align: right;\n",
       "  white-space: pre-wrap;\n",
       "}\n",
       "</style>\n",
       "<small>shape: (5, 180)</small><table border=\"1\" class=\"dataframe\"><thead><tr><th>Code département</th><th>Libellé département</th><th>Code commune</th><th>Libellé commune</th><th>Inscrits</th><th>Votants</th><th>% Votants</th><th>Abstentions</th><th>% Abstentions</th><th>Exprimés</th><th>% Exprimés/inscrits</th><th>% Exprimés/votants</th><th>Blancs</th><th>% Blancs/inscrits</th><th>% Blancs/votants</th><th>Nuls</th><th>% Nuls/inscrits</th><th>% Nuls/votants</th><th>Numéro de panneau 1</th><th>Nuance candidat 1</th><th>Nom candidat 1</th><th>Prénom candidat 1</th><th>Sexe candidat 1</th><th>Voix 1</th><th>% Voix/inscrits 1</th><th>% Voix/exprimés 1</th><th>Elu 1</th><th>Numéro de panneau 2</th><th>Nuance candidat 2</th><th>Nom candidat 2</th><th>Prénom candidat 2</th><th>Sexe candidat 2</th><th>Voix 2</th><th>% Voix/inscrits 2</th><th>% Voix/exprimés 2</th><th>Elu 2</th><th>Numéro de panneau 3</th><th>&hellip;</th><th>Elu 14</th><th>Numéro de panneau 15</th><th>Nuance candidat 15</th><th>Nom candidat 15</th><th>Prénom candidat 15</th><th>Sexe candidat 15</th><th>Voix 15</th><th>% Voix/inscrits 15</th><th>% Voix/exprimés 15</th><th>Elu 15</th><th>Numéro de panneau 16</th><th>Nuance candidat 16</th><th>Nom candidat 16</th><th>Prénom candidat 16</th><th>Sexe candidat 16</th><th>Voix 16</th><th>% Voix/inscrits 16</th><th>% Voix/exprimés 16</th><th>Elu 16</th><th>Numéro de panneau 17</th><th>Nuance candidat 17</th><th>Nom candidat 17</th><th>Prénom candidat 17</th><th>Sexe candidat 17</th><th>Voix 17</th><th>% Voix/inscrits 17</th><th>% Voix/exprimés 17</th><th>Elu 17</th><th>Numéro de panneau 18</th><th>Nuance candidat 18</th><th>Nom candidat 18</th><th>Prénom candidat 18</th><th>Sexe candidat 18</th><th>Voix 18</th><th>% Voix/inscrits 18</th><th>% Voix/exprimés 18</th><th>Elu 18</th></tr><tr><td>str</td><td>str</td><td>str</td><td>str</td><td>i64</td><td>i64</td><td>str</td><td>i64</td><td>str</td><td>i64</td><td>str</td><td>str</td><td>i64</td><td>str</td><td>str</td><td>i64</td><td>str</td><td>str</td><td>i64</td><td>str</td><td>str</td><td>str</td><td>str</td><td>i64</td><td>str</td><td>str</td><td>str</td><td>i64</td><td>str</td><td>str</td><td>str</td><td>str</td><td>i64</td><td>str</td><td>str</td><td>str</td><td>i64</td><td>&hellip;</td><td>str</td><td>str</td><td>str</td><td>str</td><td>str</td><td>str</td><td>str</td><td>str</td><td>str</td><td>str</td><td>str</td><td>str</td><td>str</td><td>str</td><td>str</td><td>str</td><td>str</td><td>str</td><td>str</td><td>str</td><td>str</td><td>str</td><td>str</td><td>str</td><td>str</td><td>str</td><td>str</td><td>str</td><td>str</td><td>str</td><td>str</td><td>str</td><td>str</td><td>str</td><td>str</td><td>str</td><td>str</td></tr></thead><tbody><tr><td>&quot;64&quot;</td><td>&quot;Pyrénées-Atlantiques&quot;</td><td>&quot;64001&quot;</td><td>&quot;Aast&quot;</td><td>165</td><td>137</td><td>&quot;83,03%&quot;</td><td>28</td><td>&quot;16,97%&quot;</td><td>124</td><td>&quot;75,15%&quot;</td><td>&quot;90,51%&quot;</td><td>9</td><td>&quot;5,45%&quot;</td><td>&quot;6,57%&quot;</td><td>4</td><td>&quot;2,42%&quot;</td><td>&quot;2,92%&quot;</td><td>5</td><td>&quot;ENS&quot;</td><td>&quot;MATTEÏ&quot;</td><td>&quot;Jean-Paul&quot;</td><td>&quot;MASCULIN&quot;</td><td>79</td><td>&quot;47,88%&quot;</td><td>&quot;63,71%&quot;</td><td>&quot;élu&quot;</td><td>6</td><td>&quot;RN&quot;</td><td>&quot;BECKER&quot;</td><td>&quot;Monique&quot;</td><td>&quot;FEMININ&quot;</td><td>45</td><td>&quot;27,27%&quot;</td><td>&quot;36,29%&quot;</td><td>null</td><td>null</td><td>&hellip;</td><td>null</td><td>null</td><td>null</td><td>null</td><td>null</td><td>null</td><td>null</td><td>null</td><td>null</td><td>null</td><td>null</td><td>null</td><td>null</td><td>null</td><td>null</td><td>null</td><td>null</td><td>null</td><td>null</td><td>null</td><td>null</td><td>null</td><td>null</td><td>null</td><td>null</td><td>null</td><td>null</td><td>null</td><td>null</td><td>null</td><td>null</td><td>null</td><td>null</td><td>null</td><td>null</td><td>null</td><td>null</td></tr><tr><td>&quot;64&quot;</td><td>&quot;Pyrénées-Atlantiques&quot;</td><td>&quot;64002&quot;</td><td>&quot;Abère&quot;</td><td>122</td><td>98</td><td>&quot;80,33%&quot;</td><td>24</td><td>&quot;19,67%&quot;</td><td>90</td><td>&quot;73,77%&quot;</td><td>&quot;91,84%&quot;</td><td>6</td><td>&quot;4,92%&quot;</td><td>&quot;6,12%&quot;</td><td>2</td><td>&quot;1,64%&quot;</td><td>&quot;2,04%&quot;</td><td>5</td><td>&quot;ENS&quot;</td><td>&quot;MATTEÏ&quot;</td><td>&quot;Jean-Paul&quot;</td><td>&quot;MASCULIN&quot;</td><td>49</td><td>&quot;40,16%&quot;</td><td>&quot;54,44%&quot;</td><td>&quot;élu&quot;</td><td>6</td><td>&quot;RN&quot;</td><td>&quot;BECKER&quot;</td><td>&quot;Monique&quot;</td><td>&quot;FEMININ&quot;</td><td>41</td><td>&quot;33,61%&quot;</td><td>&quot;45,56%&quot;</td><td>null</td><td>null</td><td>&hellip;</td><td>null</td><td>null</td><td>null</td><td>null</td><td>null</td><td>null</td><td>null</td><td>null</td><td>null</td><td>null</td><td>null</td><td>null</td><td>null</td><td>null</td><td>null</td><td>null</td><td>null</td><td>null</td><td>null</td><td>null</td><td>null</td><td>null</td><td>null</td><td>null</td><td>null</td><td>null</td><td>null</td><td>null</td><td>null</td><td>null</td><td>null</td><td>null</td><td>null</td><td>null</td><td>null</td><td>null</td><td>null</td></tr><tr><td>&quot;64&quot;</td><td>&quot;Pyrénées-Atlantiques&quot;</td><td>&quot;64003&quot;</td><td>&quot;Abidos&quot;</td><td>203</td><td>150</td><td>&quot;73,89%&quot;</td><td>53</td><td>&quot;26,11%&quot;</td><td>145</td><td>&quot;71,43%&quot;</td><td>&quot;96,67%&quot;</td><td>3</td><td>&quot;1,48%&quot;</td><td>&quot;2,00%&quot;</td><td>2</td><td>&quot;0,99%&quot;</td><td>&quot;1,33%&quot;</td><td>2</td><td>&quot;RN&quot;</td><td>&quot;CRESSON&quot;</td><td>&quot;Nicolas&quot;</td><td>&quot;MASCULIN&quot;</td><td>62</td><td>&quot;30,54%&quot;</td><td>&quot;42,76%&quot;</td><td>null</td><td>5</td><td>&quot;DVG&quot;</td><td>&quot;HABIB&quot;</td><td>&quot;David&quot;</td><td>&quot;MASCULIN&quot;</td><td>83</td><td>&quot;40,89%&quot;</td><td>&quot;57,24%&quot;</td><td>&quot;élu&quot;</td><td>null</td><td>&hellip;</td><td>null</td><td>null</td><td>null</td><td>null</td><td>null</td><td>null</td><td>null</td><td>null</td><td>null</td><td>null</td><td>null</td><td>null</td><td>null</td><td>null</td><td>null</td><td>null</td><td>null</td><td>null</td><td>null</td><td>null</td><td>null</td><td>null</td><td>null</td><td>null</td><td>null</td><td>null</td><td>null</td><td>null</td><td>null</td><td>null</td><td>null</td><td>null</td><td>null</td><td>null</td><td>null</td><td>null</td><td>null</td></tr><tr><td>&quot;64&quot;</td><td>&quot;Pyrénées-Atlantiques&quot;</td><td>&quot;64004&quot;</td><td>&quot;Abitain&quot;</td><td>112</td><td>91</td><td>&quot;81,25%&quot;</td><td>21</td><td>&quot;18,75%&quot;</td><td>90</td><td>&quot;80,36%&quot;</td><td>&quot;98,90%&quot;</td><td>1</td><td>&quot;0,89%&quot;</td><td>&quot;1,10%&quot;</td><td>0</td><td>&quot;0,00%&quot;</td><td>&quot;0,00%&quot;</td><td>2</td><td>&quot;UG&quot;</td><td>&quot;ECHANIZ&quot;</td><td>&quot;Iñaki&quot;</td><td>&quot;MASCULIN&quot;</td><td>26</td><td>&quot;23,21%&quot;</td><td>&quot;28,89%&quot;</td><td>&quot;élu&quot;</td><td>3</td><td>&quot;DVD&quot;</td><td>&quot;LASSALLE&quot;</td><td>&quot;Jean&quot;</td><td>&quot;MASCULIN&quot;</td><td>28</td><td>&quot;25,00%&quot;</td><td>&quot;31,11%&quot;</td><td>null</td><td>4</td><td>&hellip;</td><td>null</td><td>null</td><td>null</td><td>null</td><td>null</td><td>null</td><td>null</td><td>null</td><td>null</td><td>null</td><td>null</td><td>null</td><td>null</td><td>null</td><td>null</td><td>null</td><td>null</td><td>null</td><td>null</td><td>null</td><td>null</td><td>null</td><td>null</td><td>null</td><td>null</td><td>null</td><td>null</td><td>null</td><td>null</td><td>null</td><td>null</td><td>null</td><td>null</td><td>null</td><td>null</td><td>null</td><td>null</td></tr><tr><td>&quot;64&quot;</td><td>&quot;Pyrénées-Atlantiques&quot;</td><td>&quot;64005&quot;</td><td>&quot;Abos&quot;</td><td>468</td><td>359</td><td>&quot;76,71%&quot;</td><td>109</td><td>&quot;23,29%&quot;</td><td>347</td><td>&quot;74,15%&quot;</td><td>&quot;96,66%&quot;</td><td>10</td><td>&quot;2,14%&quot;</td><td>&quot;2,79%&quot;</td><td>2</td><td>&quot;0,43%&quot;</td><td>&quot;0,56%&quot;</td><td>2</td><td>&quot;RN&quot;</td><td>&quot;CRESSON&quot;</td><td>&quot;Nicolas&quot;</td><td>&quot;MASCULIN&quot;</td><td>125</td><td>&quot;26,71%&quot;</td><td>&quot;36,02%&quot;</td><td>null</td><td>5</td><td>&quot;DVG&quot;</td><td>&quot;HABIB&quot;</td><td>&quot;David&quot;</td><td>&quot;MASCULIN&quot;</td><td>222</td><td>&quot;47,44%&quot;</td><td>&quot;63,98%&quot;</td><td>&quot;élu&quot;</td><td>null</td><td>&hellip;</td><td>null</td><td>null</td><td>null</td><td>null</td><td>null</td><td>null</td><td>null</td><td>null</td><td>null</td><td>null</td><td>null</td><td>null</td><td>null</td><td>null</td><td>null</td><td>null</td><td>null</td><td>null</td><td>null</td><td>null</td><td>null</td><td>null</td><td>null</td><td>null</td><td>null</td><td>null</td><td>null</td><td>null</td><td>null</td><td>null</td><td>null</td><td>null</td><td>null</td><td>null</td><td>null</td><td>null</td><td>null</td></tr></tbody></table></div>"
      ],
      "text/plain": [
       "shape: (5, 180)\n",
       "┌────────────┬────────────┬────────────┬────────────┬───┬─────────┬───────────┬───────────┬────────┐\n",
       "│ Code dépar ┆ Libellé    ┆ Code       ┆ Libellé    ┆ … ┆ Voix 18 ┆ % Voix/in ┆ % Voix/ex ┆ Elu 18 │\n",
       "│ tement     ┆ départemen ┆ commune    ┆ commune    ┆   ┆ ---     ┆ scrits 18 ┆ primés 18 ┆ ---    │\n",
       "│ ---        ┆ t          ┆ ---        ┆ ---        ┆   ┆ str     ┆ ---       ┆ ---       ┆ str    │\n",
       "│ str        ┆ ---        ┆ str        ┆ str        ┆   ┆         ┆ str       ┆ str       ┆        │\n",
       "│            ┆ str        ┆            ┆            ┆   ┆         ┆           ┆           ┆        │\n",
       "╞════════════╪════════════╪════════════╪════════════╪═══╪═════════╪═══════════╪═══════════╪════════╡\n",
       "│ 64         ┆ Pyrénées-A ┆ 64001      ┆ Aast       ┆ … ┆ null    ┆ null      ┆ null      ┆ null   │\n",
       "│            ┆ tlantiques ┆            ┆            ┆   ┆         ┆           ┆           ┆        │\n",
       "│ 64         ┆ Pyrénées-A ┆ 64002      ┆ Abère      ┆ … ┆ null    ┆ null      ┆ null      ┆ null   │\n",
       "│            ┆ tlantiques ┆            ┆            ┆   ┆         ┆           ┆           ┆        │\n",
       "│ 64         ┆ Pyrénées-A ┆ 64003      ┆ Abidos     ┆ … ┆ null    ┆ null      ┆ null      ┆ null   │\n",
       "│            ┆ tlantiques ┆            ┆            ┆   ┆         ┆           ┆           ┆        │\n",
       "│ 64         ┆ Pyrénées-A ┆ 64004      ┆ Abitain    ┆ … ┆ null    ┆ null      ┆ null      ┆ null   │\n",
       "│            ┆ tlantiques ┆            ┆            ┆   ┆         ┆           ┆           ┆        │\n",
       "│ 64         ┆ Pyrénées-A ┆ 64005      ┆ Abos       ┆ … ┆ null    ┆ null      ┆ null      ┆ null   │\n",
       "│            ┆ tlantiques ┆            ┆            ┆   ┆         ┆           ┆           ┆        │\n",
       "└────────────┴────────────┴────────────┴────────────┴───┴─────────┴───────────┴───────────┴────────┘"
      ]
     },
     "execution_count": 110,
     "metadata": {},
     "output_type": "execute_result"
    }
   ],
   "source": [
    "votes = pl.read_excel('https://www.data.gouv.fr/api/1/datasets/r/0257cb91-52f7-4c52-8fad-e3ce57405f71', drop_empty_cols=True)\n",
    "votes = votes.filter(pl.col('Code département').eq(\"64\"))\n",
    "votes.head()"
   ]
  },
  {
   "cell_type": "code",
   "execution_count": 111,
   "metadata": {},
   "outputs": [
    {
     "data": {
      "text/html": [
       "<div><style>\n",
       ".dataframe > thead > tr,\n",
       ".dataframe > tbody > tr {\n",
       "  text-align: right;\n",
       "  white-space: pre-wrap;\n",
       "}\n",
       "</style>\n",
       "<small>shape: (348, 3)</small><table border=\"1\" class=\"dataframe\"><thead><tr><th>Code département</th><th>Code commune</th><th>percent_rn</th></tr><tr><td>str</td><td>str</td><td>f64</td></tr></thead><tbody><tr><td>&quot;64&quot;</td><td>&quot;64001&quot;</td><td>36.29</td></tr><tr><td>&quot;64&quot;</td><td>&quot;64002&quot;</td><td>45.56</td></tr><tr><td>&quot;64&quot;</td><td>&quot;64004&quot;</td><td>40.0</td></tr><tr><td>&quot;64&quot;</td><td>&quot;64006&quot;</td><td>21.59</td></tr><tr><td>&quot;64&quot;</td><td>&quot;64007&quot;</td><td>30.34</td></tr><tr><td>&hellip;</td><td>&hellip;</td><td>&hellip;</td></tr><tr><td>&quot;64&quot;</td><td>&quot;64550&quot;</td><td>34.73</td></tr><tr><td>&quot;64&quot;</td><td>&quot;64551&quot;</td><td>36.22</td></tr><tr><td>&quot;64&quot;</td><td>&quot;64555&quot;</td><td>34.83</td></tr><tr><td>&quot;64&quot;</td><td>&quot;64558&quot;</td><td>42.96</td></tr><tr><td>&quot;64&quot;</td><td>&quot;64559&quot;</td><td>29.61</td></tr></tbody></table></div>"
      ],
      "text/plain": [
       "shape: (348, 3)\n",
       "┌──────────────────┬──────────────┬────────────┐\n",
       "│ Code département ┆ Code commune ┆ percent_rn │\n",
       "│ ---              ┆ ---          ┆ ---        │\n",
       "│ str              ┆ str          ┆ f64        │\n",
       "╞══════════════════╪══════════════╪════════════╡\n",
       "│ 64               ┆ 64001        ┆ 36.29      │\n",
       "│ 64               ┆ 64002        ┆ 45.56      │\n",
       "│ 64               ┆ 64004        ┆ 40.0       │\n",
       "│ 64               ┆ 64006        ┆ 21.59      │\n",
       "│ 64               ┆ 64007        ┆ 30.34      │\n",
       "│ …                ┆ …            ┆ …          │\n",
       "│ 64               ┆ 64550        ┆ 34.73      │\n",
       "│ 64               ┆ 64551        ┆ 36.22      │\n",
       "│ 64               ┆ 64555        ┆ 34.83      │\n",
       "│ 64               ┆ 64558        ┆ 42.96      │\n",
       "│ 64               ┆ 64559        ┆ 29.61      │\n",
       "└──────────────────┴──────────────┴────────────┘"
      ]
     },
     "execution_count": 111,
     "metadata": {},
     "output_type": "execute_result"
    }
   ],
   "source": [
    "extract_rn = pl.when(\n",
    "    pl.col(\"Nuance candidat 1\").eq('\"RN\"')\n",
    ").then(\n",
    "    pl.col(\"% Voix/exprimés 1\")\n",
    ").when(\n",
    "    pl.col(\"Nuance candidat 2\").eq(\"RN\")\n",
    ").then(\n",
    "    pl.col(\"% Voix/exprimés 2\")\n",
    ").when(\n",
    "    pl.col(\"Nuance candidat 3\").eq(\"RN\")\n",
    ").then(\n",
    "    pl.col(\"% Voix/exprimés 3\")\n",
    ").str.replace(r\"^(\\d+),(\\d+)%$\", \"${1}.${2}\").cast(pl.Float64)\n",
    "votes_rn = votes.select(pl.col(\"^Code.*$\"), percent_rn=extract_rn).filter(pl.col.percent_rn.is_not_null())\n",
    "votes_rn"
   ]
  },
  {
   "cell_type": "code",
   "execution_count": 112,
   "metadata": {},
   "outputs": [
    {
     "data": {
      "text/html": [
       "<div><style>\n",
       ".dataframe > thead > tr,\n",
       ".dataframe > tbody > tr {\n",
       "  text-align: right;\n",
       "  white-space: pre-wrap;\n",
       "}\n",
       "</style>\n",
       "<small>shape: (5, 2)</small><table border=\"1\" class=\"dataframe\"><thead><tr><th>COMMUNE_RESID</th><th>circo</th></tr><tr><td>str</td><td>str</td></tr></thead><tbody><tr><td>&quot;64001&quot;</td><td>&quot;64002&quot;</td></tr><tr><td>&quot;64002&quot;</td><td>&quot;64002&quot;</td></tr><tr><td>&quot;64003&quot;</td><td>&quot;64003&quot;</td></tr><tr><td>&quot;64004&quot;</td><td>&quot;64004&quot;</td></tr><tr><td>&quot;64005&quot;</td><td>&quot;64003&quot;</td></tr></tbody></table></div>"
      ],
      "text/plain": [
       "shape: (5, 2)\n",
       "┌───────────────┬───────┐\n",
       "│ COMMUNE_RESID ┆ circo │\n",
       "│ ---           ┆ ---   │\n",
       "│ str           ┆ str   │\n",
       "╞═══════════════╪═══════╡\n",
       "│ 64001         ┆ 64002 │\n",
       "│ 64002         ┆ 64002 │\n",
       "│ 64003         ┆ 64003 │\n",
       "│ 64004         ┆ 64004 │\n",
       "│ 64005         ┆ 64003 │\n",
       "└───────────────┴───────┘"
      ]
     },
     "execution_count": 112,
     "metadata": {},
     "output_type": "execute_result"
    }
   ],
   "source": [
    "circo_composition = pl.read_excel(\"https://www.insee.fr/fr/statistiques/fichier/6436476/circo_composition.xlsx\", sheet_name='table').select(\n",
    "    'COMMUNE_RESID', 'circo'\n",
    ").filter(pl.col(\"COMMUNE_RESID\").str.starts_with('64'))\n",
    "circo_composition.head()"
   ]
  },
  {
   "cell_type": "code",
   "execution_count": 113,
   "metadata": {},
   "outputs": [
    {
     "data": {
      "text/html": [
       "<div><style>\n",
       ".dataframe > thead > tr,\n",
       ".dataframe > tbody > tr {\n",
       "  text-align: right;\n",
       "  white-space: pre-wrap;\n",
       "}\n",
       "</style>\n",
       "<small>shape: (5, 124)</small><table border=\"1\" class=\"dataframe\"><thead><tr><th>circo</th><th>Nom de la circonscription</th><th>Inscrit_22</th><th>pop_légal_19</th><th>pop_légal_13</th><th>tvar_pop</th><th>pop_pole_aav</th><th>pop_cour_aav</th><th>pop_horsaav</th><th>pop_urb</th><th>pop_rur_periu</th><th>pop_rur_non_periu</th><th>age_moyen</th><th>dec90</th><th>dec75</th><th>dec50</th><th>dec25</th><th>dec10</th><th>actemp</th><th>actcho</th><th>inactret</th><th>inactetu</th><th>inactm14</th><th>inactaut</th><th>actemp_hom</th><th>actcho_hom</th><th>inactret_hom</th><th>inactetu_hom</th><th>inactm14_hom</th><th>inactaut_hom</th><th>actemp_fem</th><th>actcho_fem</th><th>inactret_fem</th><th>inactetu_fem</th><th>inactm14_fem</th><th>inactaut_fem</th><th>actdip_PEU</th><th>&hellip;</th><th>ilt_fra</th><th>ilt_etr</th><th>mobtrav</th><th>modtrans_aucun</th><th>modtrans_pied</th><th>modtrans_velo</th><th>modtrans_moto</th><th>modtrans_voit</th><th>modtrans_commun</th><th>tx_pauvrete60_diff</th><th>nivvie_median_diff</th><th>part_pauvres_diff</th><th>part_modestes_diff</th><th>part_medians_diff</th><th>part_plutot_aises_diff</th><th>part_aises_diff</th><th>D1_diff</th><th>D9_diff</th><th>rpt_D9_D1_diff</th><th>tx_pauvrete60_diff_trageRF1</th><th>tx_pauvrete60_diff_trageRF2</th><th>tx_pauvrete60_diff_trageRF3</th><th>tx_pauvrete60_diff_trageRF4</th><th>tx_pauvrete60_diff_trageRF5</th><th>tx_pauvrete60_diff_trageRF6</th><th>PACT</th><th>PPEN</th><th>PPAT</th><th>PPSOC</th><th>PIMPOT</th><th>acc_ecole</th><th>acc_college</th><th>acc_lycee</th><th>acc_medecin</th><th>acc_dentiste</th><th>acc_pharmacie</th><th>part_eloig</th></tr><tr><td>str</td><td>str</td><td>i64</td><td>i64</td><td>i64</td><td>f64</td><td>f64</td><td>f64</td><td>f64</td><td>f64</td><td>f64</td><td>f64</td><td>f64</td><td>i64</td><td>i64</td><td>i64</td><td>i64</td><td>i64</td><td>f64</td><td>f64</td><td>f64</td><td>f64</td><td>f64</td><td>f64</td><td>f64</td><td>f64</td><td>f64</td><td>f64</td><td>f64</td><td>f64</td><td>f64</td><td>f64</td><td>f64</td><td>f64</td><td>f64</td><td>f64</td><td>f64</td><td>&hellip;</td><td>f64</td><td>f64</td><td>str</td><td>f64</td><td>f64</td><td>f64</td><td>f64</td><td>f64</td><td>f64</td><td>f64</td><td>i64</td><td>f64</td><td>f64</td><td>f64</td><td>f64</td><td>f64</td><td>i64</td><td>i64</td><td>f64</td><td>f64</td><td>f64</td><td>f64</td><td>f64</td><td>f64</td><td>f64</td><td>f64</td><td>f64</td><td>f64</td><td>f64</td><td>f64</td><td>f64</td><td>f64</td><td>f64</td><td>f64</td><td>f64</td><td>f64</td><td>f64</td></tr></thead><tbody><tr><td>&quot;00000&quot;</td><td>&quot;Moyenne France hors Mayotte po…</td><td>84094</td><td>120483</td><td>117922</td><td>0.4</td><td>50.9</td><td>42.5</td><td>6.7</td><td>67.2</td><td>19.1</td><td>13.7</td><td>41.1</td><td>74</td><td>60</td><td>41</td><td>20</td><td>8</td><td>40.5</td><td>6.2</td><td>22.5</td><td>7.8</td><td>16.8</td><td>6.2</td><td>43.3</td><td>6.2</td><td>20.9</td><td>7.9</td><td>17.7</td><td>4.1</td><td>38.0</td><td>6.2</td><td>24.0</td><td>7.8</td><td>15.9</td><td>8.1</td><td>15.2</td><td>&hellip;</td><td>17.2</td><td>1.7</td><td>&quot;nd&quot;</td><td>4.1</td><td>6.1</td><td>2.3</td><td>1.8</td><td>70.4</td><td>15.2</td><td>14.5</td><td>21930</td><td>14.5</td><td>25.7</td><td>26.5</td><td>23.2</td><td>10.1</td><td>11620</td><td>39600</td><td>3.4</td><td>22.7</td><td>16.8</td><td>16.5</td><td>14.2</td><td>10.3</td><td>9.6</td><td>73.5</td><td>28.3</td><td>10.1</td><td>5.8</td><td>-17.7</td><td>90.7</td><td>61.5</td><td>47.2</td><td>78.3</td><td>71.4</td><td>77.0</td><td>10.9</td></tr><tr><td>&quot;01001&quot;</td><td>&quot;Ain&nbsp;&nbsp;- 1re circonscription&quot;</td><td>85723</td><td>122750</td><td>115683</td><td>1.0</td><td>28.5</td><td>65.3</td><td>6.1</td><td>28.5</td><td>64.8</td><td>6.6</td><td>41.6</td><td>74</td><td>61</td><td>42</td><td>20</td><td>8</td><td>41.9</td><td>4.8</td><td>24.3</td><td>6.7</td><td>17.4</td><td>4.9</td><td>44.0</td><td>4.8</td><td>22.6</td><td>6.6</td><td>18.2</td><td>3.8</td><td>39.8</td><td>4.9</td><td>26.0</td><td>6.7</td><td>16.6</td><td>6.0</td><td>14.3</td><td>&hellip;</td><td>12.0</td><td>0.3</td><td>&quot;27.8&quot;</td><td>4.3</td><td>5.2</td><td>1.7</td><td>0.8</td><td>84.5</td><td>3.5</td><td>11.3</td><td>22130</td><td>11.3</td><td>25.9</td><td>31.7</td><td>24.2</td><td>6.9</td><td>12720</td><td>35890</td><td>2.8</td><td>16.5</td><td>14.2</td><td>12.8</td><td>10.4</td><td>7.8</td><td>7.7</td><td>70.4</td><td>30.6</td><td>9.1</td><td>5.6</td><td>-15.6</td><td>96.7</td><td>41.1</td><td>23.8</td><td>65.4</td><td>54.2</td><td>61.5</td><td>14.7</td></tr><tr><td>&quot;01002&quot;</td><td>&quot;Ain&nbsp;&nbsp;- 2e circonscription&quot;</td><td>99383</td><td>137975</td><td>129760</td><td>1.0</td><td>6.1</td><td>92.3</td><td>1.6</td><td>69.9</td><td>28.3</td><td>1.8</td><td>39.2</td><td>71</td><td>57</td><td>40</td><td>18</td><td>7</td><td>46.3</td><td>4.1</td><td>19.3</td><td>7.1</td><td>19.1</td><td>4.0</td><td>48.8</td><td>3.8</td><td>18.4</td><td>6.8</td><td>20.1</td><td>2.1</td><td>43.9</td><td>4.4</td><td>20.2</td><td>7.4</td><td>18.2</td><td>5.9</td><td>13.9</td><td>&hellip;</td><td>50.5</td><td>0.2</td><td>&quot;57&quot;</td><td>4.2</td><td>3.4</td><td>1.0</td><td>1.1</td><td>81.8</td><td>8.5</td><td>6.8</td><td>24890</td><td>6.8</td><td>20.4</td><td>29.0</td><td>31.9</td><td>12.0</td><td>14590</td><td>41350</td><td>2.8</td><td>11.4</td><td>7.8</td><td>7.3</td><td>6.1</td><td>5.1</td><td>5.5</td><td>80.0</td><td>23.7</td><td>9.7</td><td>4.1</td><td>-17.5</td><td>100.0</td><td>47.0</td><td>22.1</td><td>71.5</td><td>62.9</td><td>69.3</td><td>8.2</td></tr><tr><td>&quot;01003&quot;</td><td>&quot;Ain&nbsp;&nbsp;- 3e circonscription&quot;</td><td>81500</td><td>146110</td><td>131843</td><td>1.7</td><td>8.4</td><td>87.0</td><td>4.5</td><td>78.1</td><td>9.5</td><td>12.4</td><td>37.8</td><td>69</td><td>54</td><td>38</td><td>17</td><td>7</td><td>46.7</td><td>5.7</td><td>15.6</td><td>6.2</td><td>20.0</td><td>5.8</td><td>50.6</td><td>5.5</td><td>14.3</td><td>6.2</td><td>20.6</td><td>2.7</td><td>43.0</td><td>5.9</td><td>16.8</td><td>6.2</td><td>19.3</td><td>8.8</td><td>13.5</td><td>&hellip;</td><td>7.5</td><td>48.0</td><td>&quot;57.4&quot;</td><td>3.3</td><td>5.4</td><td>2.7</td><td>2.2</td><td>77.9</td><td>8.4</td><td>12.9</td><td>28620</td><td>12.9</td><td>15.9</td><td>16.6</td><td>20.8</td><td>33.9</td><td>11500</td><td>71720</td><td>6.2</td><td>16.1</td><td>12.6</td><td>14.0</td><td>13.9</td><td>10.6</td><td>8.4</td><td>87.1</td><td>18.9</td><td>7.9</td><td>2.3</td><td>-16.3</td><td>98.0</td><td>60.1</td><td>27.9</td><td>76.1</td><td>69.6</td><td>75.3</td><td>24.8</td></tr><tr><td>&quot;01004&quot;</td><td>&quot;Ain&nbsp;&nbsp;- 4e circonscription&quot;</td><td>94359</td><td>128896</td><td>126379</td><td>0.3</td><td>23.4</td><td>63.0</td><td>13.6</td><td>20.5</td><td>60.5</td><td>19.0</td><td>40.9</td><td>73</td><td>60</td><td>42</td><td>19</td><td>8</td><td>44.8</td><td>4.2</td><td>22.8</td><td>6.6</td><td>17.9</td><td>3.7</td><td>47.1</td><td>3.9</td><td>21.4</td><td>6.5</td><td>18.7</td><td>2.4</td><td>42.6</td><td>4.5</td><td>24.0</td><td>6.7</td><td>17.0</td><td>5.1</td><td>14.8</td><td>&hellip;</td><td>36.1</td><td>0.2</td><td>&quot;50.5&quot;</td><td>4.2</td><td>3.5</td><td>1.2</td><td>1.1</td><td>85.0</td><td>5.0</td><td>8.1</td><td>23060</td><td>8.1</td><td>24.3</td><td>32.6</td><td>27.0</td><td>8.0</td><td>13950</td><td>37320</td><td>2.7</td><td>13.0</td><td>10.0</td><td>8.7</td><td>7.3</td><td>5.8</td><td>6.3</td><td>74.1</td><td>27.5</td><td>9.9</td><td>4.6</td><td>-16.1</td><td>96.6</td><td>37.2</td><td>26.6</td><td>61.0</td><td>52.2</td><td>57.3</td><td>5.6</td></tr></tbody></table></div>"
      ],
      "text/plain": [
       "shape: (5, 124)\n",
       "┌───────┬────────────┬────────────┬────────────┬───┬───────────┬───────────┬───────────┬───────────┐\n",
       "│ circo ┆ Nom de la  ┆ Inscrit_22 ┆ pop_légal_ ┆ … ┆ acc_medec ┆ acc_denti ┆ acc_pharm ┆ part_eloi │\n",
       "│ ---   ┆ circonscri ┆ ---        ┆ 19         ┆   ┆ in        ┆ ste       ┆ acie      ┆ g         │\n",
       "│ str   ┆ ption      ┆ i64        ┆ ---        ┆   ┆ ---       ┆ ---       ┆ ---       ┆ ---       │\n",
       "│       ┆ ---        ┆            ┆ i64        ┆   ┆ f64       ┆ f64       ┆ f64       ┆ f64       │\n",
       "│       ┆ str        ┆            ┆            ┆   ┆           ┆           ┆           ┆           │\n",
       "╞═══════╪════════════╪════════════╪════════════╪═══╪═══════════╪═══════════╪═══════════╪═══════════╡\n",
       "│ 00000 ┆ Moyenne    ┆ 84094      ┆ 120483     ┆ … ┆ 78.3      ┆ 71.4      ┆ 77.0      ┆ 10.9      │\n",
       "│       ┆ France     ┆            ┆            ┆   ┆           ┆           ┆           ┆           │\n",
       "│       ┆ hors       ┆            ┆            ┆   ┆           ┆           ┆           ┆           │\n",
       "│       ┆ Mayotte    ┆            ┆            ┆   ┆           ┆           ┆           ┆           │\n",
       "│       ┆ po…        ┆            ┆            ┆   ┆           ┆           ┆           ┆           │\n",
       "│ 01001 ┆ Ain  - 1re ┆ 85723      ┆ 122750     ┆ … ┆ 65.4      ┆ 54.2      ┆ 61.5      ┆ 14.7      │\n",
       "│       ┆ circonscri ┆            ┆            ┆   ┆           ┆           ┆           ┆           │\n",
       "│       ┆ ption      ┆            ┆            ┆   ┆           ┆           ┆           ┆           │\n",
       "│ 01002 ┆ Ain  - 2e  ┆ 99383      ┆ 137975     ┆ … ┆ 71.5      ┆ 62.9      ┆ 69.3      ┆ 8.2       │\n",
       "│       ┆ circonscri ┆            ┆            ┆   ┆           ┆           ┆           ┆           │\n",
       "│       ┆ ption      ┆            ┆            ┆   ┆           ┆           ┆           ┆           │\n",
       "│ 01003 ┆ Ain  - 3e  ┆ 81500      ┆ 146110     ┆ … ┆ 76.1      ┆ 69.6      ┆ 75.3      ┆ 24.8      │\n",
       "│       ┆ circonscri ┆            ┆            ┆   ┆           ┆           ┆           ┆           │\n",
       "│       ┆ ption      ┆            ┆            ┆   ┆           ┆           ┆           ┆           │\n",
       "│ 01004 ┆ Ain  - 4e  ┆ 94359      ┆ 128896     ┆ … ┆ 61.0      ┆ 52.2      ┆ 57.3      ┆ 5.6       │\n",
       "│       ┆ circonscri ┆            ┆            ┆   ┆           ┆           ┆           ┆           │\n",
       "│       ┆ ption      ┆            ┆            ┆   ┆           ┆           ┆           ┆           │\n",
       "└───────┴────────────┴────────────┴────────────┴───┴───────────┴───────────┴───────────┴───────────┘"
      ]
     },
     "execution_count": 113,
     "metadata": {},
     "output_type": "execute_result"
    }
   ],
   "source": [
    "stats = pl.read_excel(\n",
    "    \"https://www.insee.fr/fr/statistiques/fichier/6436476/indic-stat-circonscriptions-legislatives-2022.xlsx\",\n",
    "    read_options=dict(header_row=7)\n",
    ")\n",
    "stats.head()"
   ]
  },
  {
   "cell_type": "code",
   "execution_count": 114,
   "metadata": {},
   "outputs": [
    {
     "data": {
      "text/html": [
       "<div><style>\n",
       ".dataframe > thead > tr,\n",
       ".dataframe > tbody > tr {\n",
       "  text-align: right;\n",
       "  white-space: pre-wrap;\n",
       "}\n",
       "</style>\n",
       "<small>shape: (5, 127)</small><table border=\"1\" class=\"dataframe\"><thead><tr><th>Code département</th><th>Code commune</th><th>percent_rn</th><th>circo</th><th>Nom de la circonscription</th><th>Inscrit_22</th><th>pop_légal_19</th><th>pop_légal_13</th><th>tvar_pop</th><th>pop_pole_aav</th><th>pop_cour_aav</th><th>pop_horsaav</th><th>pop_urb</th><th>pop_rur_periu</th><th>pop_rur_non_periu</th><th>age_moyen</th><th>dec90</th><th>dec75</th><th>dec50</th><th>dec25</th><th>dec10</th><th>actemp</th><th>actcho</th><th>inactret</th><th>inactetu</th><th>inactm14</th><th>inactaut</th><th>actemp_hom</th><th>actcho_hom</th><th>inactret_hom</th><th>inactetu_hom</th><th>inactm14_hom</th><th>inactaut_hom</th><th>actemp_fem</th><th>actcho_fem</th><th>inactret_fem</th><th>inactetu_fem</th><th>&hellip;</th><th>ilt_fra</th><th>ilt_etr</th><th>mobtrav</th><th>modtrans_aucun</th><th>modtrans_pied</th><th>modtrans_velo</th><th>modtrans_moto</th><th>modtrans_voit</th><th>modtrans_commun</th><th>tx_pauvrete60_diff</th><th>nivvie_median_diff</th><th>part_pauvres_diff</th><th>part_modestes_diff</th><th>part_medians_diff</th><th>part_plutot_aises_diff</th><th>part_aises_diff</th><th>D1_diff</th><th>D9_diff</th><th>rpt_D9_D1_diff</th><th>tx_pauvrete60_diff_trageRF1</th><th>tx_pauvrete60_diff_trageRF2</th><th>tx_pauvrete60_diff_trageRF3</th><th>tx_pauvrete60_diff_trageRF4</th><th>tx_pauvrete60_diff_trageRF5</th><th>tx_pauvrete60_diff_trageRF6</th><th>PACT</th><th>PPEN</th><th>PPAT</th><th>PPSOC</th><th>PIMPOT</th><th>acc_ecole</th><th>acc_college</th><th>acc_lycee</th><th>acc_medecin</th><th>acc_dentiste</th><th>acc_pharmacie</th><th>part_eloig</th></tr><tr><td>str</td><td>str</td><td>f64</td><td>str</td><td>str</td><td>i64</td><td>i64</td><td>i64</td><td>f64</td><td>f64</td><td>f64</td><td>f64</td><td>f64</td><td>f64</td><td>f64</td><td>f64</td><td>i64</td><td>i64</td><td>i64</td><td>i64</td><td>i64</td><td>f64</td><td>f64</td><td>f64</td><td>f64</td><td>f64</td><td>f64</td><td>f64</td><td>f64</td><td>f64</td><td>f64</td><td>f64</td><td>f64</td><td>f64</td><td>f64</td><td>f64</td><td>f64</td><td>&hellip;</td><td>f64</td><td>f64</td><td>str</td><td>f64</td><td>f64</td><td>f64</td><td>f64</td><td>f64</td><td>f64</td><td>f64</td><td>i64</td><td>f64</td><td>f64</td><td>f64</td><td>f64</td><td>f64</td><td>i64</td><td>i64</td><td>f64</td><td>f64</td><td>f64</td><td>f64</td><td>f64</td><td>f64</td><td>f64</td><td>f64</td><td>f64</td><td>f64</td><td>f64</td><td>f64</td><td>f64</td><td>f64</td><td>f64</td><td>f64</td><td>f64</td><td>f64</td><td>f64</td></tr></thead><tbody><tr><td>&quot;64&quot;</td><td>&quot;64037&quot;</td><td>41.54</td><td>&quot;64001&quot;</td><td>&quot;Pyrénées-Atlantiques&nbsp;&nbsp;&nbsp;&nbsp;- 1re …</td><td>68649</td><td>100813</td><td>100556</td><td>0.0</td><td>68.0</td><td>32.0</td><td>0.0</td><td>91.4</td><td>8.6</td><td>0.0</td><td>42.6</td><td>76</td><td>62</td><td>42</td><td>22</td><td>10</td><td>40.2</td><td>6.5</td><td>24.1</td><td>9.3</td><td>13.8</td><td>6.0</td><td>43.2</td><td>6.4</td><td>21.2</td><td>9.4</td><td>15.1</td><td>4.5</td><td>37.5</td><td>6.6</td><td>26.7</td><td>9.2</td><td>&hellip;</td><td>4.8</td><td>0.3</td><td>&quot;26.2&quot;</td><td>3.4</td><td>5.7</td><td>3.6</td><td>1.5</td><td>79.7</td><td>6.1</td><td>14.4</td><td>22030</td><td>14.4</td><td>25.6</td><td>26.1</td><td>24.4</td><td>9.6</td><td>11640</td><td>39070</td><td>3.4</td><td>28.2</td><td>16.9</td><td>16.4</td><td>13.8</td><td>9.0</td><td>7.8</td><td>68.8</td><td>31.9</td><td>9.5</td><td>6.7</td><td>-16.9</td><td>99.8</td><td>64.1</td><td>55.1</td><td>91.5</td><td>88.0</td><td>91.5</td><td>1.8</td></tr><tr><td>&quot;64&quot;</td><td>&quot;64060&quot;</td><td>32.45</td><td>&quot;64001&quot;</td><td>&quot;Pyrénées-Atlantiques&nbsp;&nbsp;&nbsp;&nbsp;- 1re …</td><td>68649</td><td>100813</td><td>100556</td><td>0.0</td><td>68.0</td><td>32.0</td><td>0.0</td><td>91.4</td><td>8.6</td><td>0.0</td><td>42.6</td><td>76</td><td>62</td><td>42</td><td>22</td><td>10</td><td>40.2</td><td>6.5</td><td>24.1</td><td>9.3</td><td>13.8</td><td>6.0</td><td>43.2</td><td>6.4</td><td>21.2</td><td>9.4</td><td>15.1</td><td>4.5</td><td>37.5</td><td>6.6</td><td>26.7</td><td>9.2</td><td>&hellip;</td><td>4.8</td><td>0.3</td><td>&quot;26.2&quot;</td><td>3.4</td><td>5.7</td><td>3.6</td><td>1.5</td><td>79.7</td><td>6.1</td><td>14.4</td><td>22030</td><td>14.4</td><td>25.6</td><td>26.1</td><td>24.4</td><td>9.6</td><td>11640</td><td>39070</td><td>3.4</td><td>28.2</td><td>16.9</td><td>16.4</td><td>13.8</td><td>9.0</td><td>7.8</td><td>68.8</td><td>31.9</td><td>9.5</td><td>6.7</td><td>-16.9</td><td>99.8</td><td>64.1</td><td>55.1</td><td>91.5</td><td>88.0</td><td>91.5</td><td>1.8</td></tr><tr><td>&quot;64&quot;</td><td>&quot;64080&quot;</td><td>43.69</td><td>&quot;64001&quot;</td><td>&quot;Pyrénées-Atlantiques&nbsp;&nbsp;&nbsp;&nbsp;- 1re …</td><td>68649</td><td>100813</td><td>100556</td><td>0.0</td><td>68.0</td><td>32.0</td><td>0.0</td><td>91.4</td><td>8.6</td><td>0.0</td><td>42.6</td><td>76</td><td>62</td><td>42</td><td>22</td><td>10</td><td>40.2</td><td>6.5</td><td>24.1</td><td>9.3</td><td>13.8</td><td>6.0</td><td>43.2</td><td>6.4</td><td>21.2</td><td>9.4</td><td>15.1</td><td>4.5</td><td>37.5</td><td>6.6</td><td>26.7</td><td>9.2</td><td>&hellip;</td><td>4.8</td><td>0.3</td><td>&quot;26.2&quot;</td><td>3.4</td><td>5.7</td><td>3.6</td><td>1.5</td><td>79.7</td><td>6.1</td><td>14.4</td><td>22030</td><td>14.4</td><td>25.6</td><td>26.1</td><td>24.4</td><td>9.6</td><td>11640</td><td>39070</td><td>3.4</td><td>28.2</td><td>16.9</td><td>16.4</td><td>13.8</td><td>9.0</td><td>7.8</td><td>68.8</td><td>31.9</td><td>9.5</td><td>6.7</td><td>-16.9</td><td>99.8</td><td>64.1</td><td>55.1</td><td>91.5</td><td>88.0</td><td>91.5</td><td>1.8</td></tr><tr><td>&quot;64&quot;</td><td>&quot;64121&quot;</td><td>50.0</td><td>&quot;64001&quot;</td><td>&quot;Pyrénées-Atlantiques&nbsp;&nbsp;&nbsp;&nbsp;- 1re …</td><td>68649</td><td>100813</td><td>100556</td><td>0.0</td><td>68.0</td><td>32.0</td><td>0.0</td><td>91.4</td><td>8.6</td><td>0.0</td><td>42.6</td><td>76</td><td>62</td><td>42</td><td>22</td><td>10</td><td>40.2</td><td>6.5</td><td>24.1</td><td>9.3</td><td>13.8</td><td>6.0</td><td>43.2</td><td>6.4</td><td>21.2</td><td>9.4</td><td>15.1</td><td>4.5</td><td>37.5</td><td>6.6</td><td>26.7</td><td>9.2</td><td>&hellip;</td><td>4.8</td><td>0.3</td><td>&quot;26.2&quot;</td><td>3.4</td><td>5.7</td><td>3.6</td><td>1.5</td><td>79.7</td><td>6.1</td><td>14.4</td><td>22030</td><td>14.4</td><td>25.6</td><td>26.1</td><td>24.4</td><td>9.6</td><td>11640</td><td>39070</td><td>3.4</td><td>28.2</td><td>16.9</td><td>16.4</td><td>13.8</td><td>9.0</td><td>7.8</td><td>68.8</td><td>31.9</td><td>9.5</td><td>6.7</td><td>-16.9</td><td>99.8</td><td>64.1</td><td>55.1</td><td>91.5</td><td>88.0</td><td>91.5</td><td>1.8</td></tr><tr><td>&quot;64&quot;</td><td>&quot;64129&quot;</td><td>33.5</td><td>&quot;64001&quot;</td><td>&quot;Pyrénées-Atlantiques&nbsp;&nbsp;&nbsp;&nbsp;- 1re …</td><td>68649</td><td>100813</td><td>100556</td><td>0.0</td><td>68.0</td><td>32.0</td><td>0.0</td><td>91.4</td><td>8.6</td><td>0.0</td><td>42.6</td><td>76</td><td>62</td><td>42</td><td>22</td><td>10</td><td>40.2</td><td>6.5</td><td>24.1</td><td>9.3</td><td>13.8</td><td>6.0</td><td>43.2</td><td>6.4</td><td>21.2</td><td>9.4</td><td>15.1</td><td>4.5</td><td>37.5</td><td>6.6</td><td>26.7</td><td>9.2</td><td>&hellip;</td><td>4.8</td><td>0.3</td><td>&quot;26.2&quot;</td><td>3.4</td><td>5.7</td><td>3.6</td><td>1.5</td><td>79.7</td><td>6.1</td><td>14.4</td><td>22030</td><td>14.4</td><td>25.6</td><td>26.1</td><td>24.4</td><td>9.6</td><td>11640</td><td>39070</td><td>3.4</td><td>28.2</td><td>16.9</td><td>16.4</td><td>13.8</td><td>9.0</td><td>7.8</td><td>68.8</td><td>31.9</td><td>9.5</td><td>6.7</td><td>-16.9</td><td>99.8</td><td>64.1</td><td>55.1</td><td>91.5</td><td>88.0</td><td>91.5</td><td>1.8</td></tr></tbody></table></div>"
      ],
      "text/plain": [
       "shape: (5, 127)\n",
       "┌────────────┬────────────┬────────────┬───────┬───┬───────────┬───────────┬───────────┬───────────┐\n",
       "│ Code dépar ┆ Code       ┆ percent_rn ┆ circo ┆ … ┆ acc_medec ┆ acc_denti ┆ acc_pharm ┆ part_eloi │\n",
       "│ tement     ┆ commune    ┆ ---        ┆ ---   ┆   ┆ in        ┆ ste       ┆ acie      ┆ g         │\n",
       "│ ---        ┆ ---        ┆ f64        ┆ str   ┆   ┆ ---       ┆ ---       ┆ ---       ┆ ---       │\n",
       "│ str        ┆ str        ┆            ┆       ┆   ┆ f64       ┆ f64       ┆ f64       ┆ f64       │\n",
       "╞════════════╪════════════╪════════════╪═══════╪═══╪═══════════╪═══════════╪═══════════╪═══════════╡\n",
       "│ 64         ┆ 64037      ┆ 41.54      ┆ 64001 ┆ … ┆ 91.5      ┆ 88.0      ┆ 91.5      ┆ 1.8       │\n",
       "│ 64         ┆ 64060      ┆ 32.45      ┆ 64001 ┆ … ┆ 91.5      ┆ 88.0      ┆ 91.5      ┆ 1.8       │\n",
       "│ 64         ┆ 64080      ┆ 43.69      ┆ 64001 ┆ … ┆ 91.5      ┆ 88.0      ┆ 91.5      ┆ 1.8       │\n",
       "│ 64         ┆ 64121      ┆ 50.0       ┆ 64001 ┆ … ┆ 91.5      ┆ 88.0      ┆ 91.5      ┆ 1.8       │\n",
       "│ 64         ┆ 64129      ┆ 33.5       ┆ 64001 ┆ … ┆ 91.5      ┆ 88.0      ┆ 91.5      ┆ 1.8       │\n",
       "└────────────┴────────────┴────────────┴───────┴───┴───────────┴───────────┴───────────┴───────────┘"
      ]
     },
     "execution_count": 114,
     "metadata": {},
     "output_type": "execute_result"
    }
   ],
   "source": [
    "df = votes_rn.join(\n",
    "    circo_composition, left_on='Code commune', right_on='COMMUNE_RESID'\n",
    ").join(\n",
    "    stats, on=\"circo\"\n",
    ")\n",
    "df.head()"
   ]
  },
  {
   "cell_type": "markdown",
   "metadata": {},
   "source": [
    "### corelation analysis"
   ]
  },
  {
   "cell_type": "code",
   "execution_count": 115,
   "metadata": {},
   "outputs": [],
   "source": [
    "def chatterjee_corr(X: pl.Expr, Y: pl.Expr):\n",
    "  ranks_X, ranks_Y = X.rank('dense'), Y.rank('dense')\n",
    "  sorted_Y_ranks = ranks_Y.sort_by(ranks_X)\n",
    "  sum_adjacent_diffs = (sorted_Y_ranks - sorted_Y_ranks.shift(1)).abs().sum()\n",
    "  n = X.count()\n",
    "  correlation = pl.when(n <= 1).then(0.0).otherwise(\n",
    "    1 - (3 * sum_adjacent_diffs) / (n.pow(2) - 1)\n",
    "  )\n",
    "  return correlation.clip(0.0, 1.0)"
   ]
  },
  {
   "cell_type": "markdown",
   "metadata": {},
   "source": [
    "def chatterjee_corr(X: pl.Expr, Y: pl.Expr):\n",
    "  ranks_X, ranks_Y = X.rank('dense'), Y.rank('dense')\n",
    "  sorted_Y_ranks = ranks_Y.sort_by(ranks_X)\n",
    "  sum_adjacent_diffs = (sorted_Y_ranks - sorted_Y_ranks.shift(1)).abs().sum()\n",
    "  n = X.count()"
   ]
  },
  {
   "cell_type": "markdown",
   "metadata": {},
   "source": [
    "## corrélation entre \n",
    "- Part des actifs en emploi travaillant dans la commune de résidence actuelle (en %)\n",
    "- pourcentage du RN au second tour"
   ]
  },
  {
   "cell_type": "code",
   "execution_count": 116,
   "metadata": {},
   "outputs": [
    {
     "data": {
      "text/html": [
       "<div><style>\n",
       ".dataframe > thead > tr,\n",
       ".dataframe > tbody > tr {\n",
       "  text-align: right;\n",
       "  white-space: pre-wrap;\n",
       "}\n",
       "</style>\n",
       "<small>shape: (1, 1)</small><table border=\"1\" class=\"dataframe\"><thead><tr><th>ilt_dep</th></tr><tr><td>f64</td></tr></thead><tbody><tr><td>-0.30247</td></tr></tbody></table></div>"
      ],
      "text/plain": [
       "shape: (1, 1)\n",
       "┌──────────┐\n",
       "│ ilt_dep  │\n",
       "│ ---      │\n",
       "│ f64      │\n",
       "╞══════════╡\n",
       "│ -0.30247 │\n",
       "└──────────┘"
      ]
     },
     "execution_count": 116,
     "metadata": {},
     "output_type": "execute_result"
    }
   ],
   "source": [
    "df.select(pl.corr(pl.col.ilt_dep, pl.col.percent_rn))"
   ]
  },
  {
   "cell_type": "code",
   "execution_count": 117,
   "metadata": {},
   "outputs": [
    {
     "data": {
      "text/html": [
       "<div><style>\n",
       ".dataframe > thead > tr,\n",
       ".dataframe > tbody > tr {\n",
       "  text-align: right;\n",
       "  white-space: pre-wrap;\n",
       "}\n",
       "</style>\n",
       "<small>shape: (1, 1)</small><table border=\"1\" class=\"dataframe\"><thead><tr><th>literal</th></tr><tr><td>f64</td></tr></thead><tbody><tr><td>0.0</td></tr></tbody></table></div>"
      ],
      "text/plain": [
       "shape: (1, 1)\n",
       "┌─────────┐\n",
       "│ literal │\n",
       "│ ---     │\n",
       "│ f64     │\n",
       "╞═════════╡\n",
       "│ 0.0     │\n",
       "└─────────┘"
      ]
     },
     "execution_count": 117,
     "metadata": {},
     "output_type": "execute_result"
    }
   ],
   "source": [
    "df.select(chatterjee_corr(pl.col.ilt_dep, pl.col.percent_rn))"
   ]
  },
  {
   "cell_type": "code",
   "execution_count": 119,
   "metadata": {},
   "outputs": [
    {
     "data": {
      "text/plain": [
       "<Axes: >"
      ]
     },
     "execution_count": 119,
     "metadata": {},
     "output_type": "execute_result"
    },
    {
     "data": {
      "image/png": "[encoded data removed]",
      "text/plain": [
       "<Figure size 640x480 with 1 Axes>"
      ]
     },
     "metadata": {},
     "output_type": "display_data"
    }
   ],
   "source": [
    "df.select(pl.col.ilt_com, pl.col.percent_rn).to_pandas().plot()"
   ]
  },
  {
   "cell_type": "markdown",
   "metadata": {},
   "source": [
    "## corrélation entre \n",
    "- Part des actifs en emploi travaillant dans la commune de résidence actuelle (en %)\n",
    "- plus de 2 voitures par ménage"
   ]
  },
  {
   "cell_type": "code",
   "execution_count": 123,
   "metadata": {},
   "outputs": [
    {
     "data": {
      "text/html": [
       "<div><style>\n",
       ".dataframe > thead > tr,\n",
       ".dataframe > tbody > tr {\n",
       "  text-align: right;\n",
       "  white-space: pre-wrap;\n",
       "}\n",
       "</style>\n",
       "<small>shape: (1, 1)</small><table border=\"1\" class=\"dataframe\"><thead><tr><th>modtrans_voit</th></tr><tr><td>f64</td></tr></thead><tbody><tr><td>0.297548</td></tr></tbody></table></div>"
      ],
      "text/plain": [
       "shape: (1, 1)\n",
       "┌───────────────┐\n",
       "│ modtrans_voit │\n",
       "│ ---           │\n",
       "│ f64           │\n",
       "╞═══════════════╡\n",
       "│ 0.297548      │\n",
       "└───────────────┘"
      ]
     },
     "execution_count": 123,
     "metadata": {},
     "output_type": "execute_result"
    }
   ],
   "source": [
    "df.select(pl.corr(pl.col.modtrans_voit, pl.col.percent_rn))"
   ]
  },
  {
   "cell_type": "code",
   "execution_count": null,
   "metadata": {},
   "outputs": [],
   "source": []
  }
 ],
 "metadata": {
  "kernelspec": {
   "display_name": "btc",
   "language": "python",
   "name": "python3"
  },
  "language_info": {
   "codemirror_mode": {
    "name": "ipython",
    "version": 3
   },
   "file_extension": ".py",
   "mimetype": "text/x-python",
   "name": "python",
   "nbconvert_exporter": "python",
   "pygments_lexer": "ipython3",
   "version": "3.9.7"
  }
 },
 "nbformat": 4,
 "nbformat_minor": 2
}
